{
 "cells": [
  {
   "cell_type": "markdown",
   "metadata": {},
   "source": [
    "## Description : Sentiment Analysis of Tweets fetched from Twitter using Python"
   ]
  },
  {
   "cell_type": "markdown",
   "metadata": {},
   "source": []
  },
  {
   "cell_type": "code",
   "execution_count": 43,
   "metadata": {},
   "outputs": [],
   "source": [
    "# Import required libraries\n",
    "import os\n",
    "import time\n",
    "import tweepy\n",
    "from textblob import TextBlob\n",
    "from wordcloud import WordCloud\n",
    "import pandas as pd\n",
    "import numpy as np\n",
    "import re\n",
    "import matplotlib.pyplot as plt\n",
    "plt.style.use('fivethirtyeight')\n"
   ]
  },
  {
   "cell_type": "code",
   "execution_count": 44,
   "metadata": {},
   "outputs": [],
   "source": [
    "# Load the API keys from the login credential file\n",
    "log_cred = pd.read_csv(\"login_credentials.csv\")\n",
    "consumer_key = log_cred.iloc[0, 1]\n",
    "consumer_secret = log_cred.iloc[1, 1]\n",
    "access_token = log_cred.iloc[2, 1]\n",
    "access_token_secret = log_cred.iloc[3, 1]\n"
   ]
  },
  {
   "cell_type": "code",
   "execution_count": 45,
   "metadata": {},
   "outputs": [],
   "source": [
    "# Create the authentication object and the API object\n",
    "auth = tweepy.OAuthHandler(consumer_key, consumer_secret)\n",
    "auth.set_access_token(access_token, access_token_secret)\n",
    "api = tweepy.API(auth, wait_on_rate_limit=True)"
   ]
  },
  {
   "cell_type": "code",
   "execution_count": 46,
   "metadata": {},
   "outputs": [
    {
     "name": "stdout",
     "output_type": "stream",
     "text": [
      "1. @Cher0tich Good example. Don't kill yourself over small small salary.\n",
      "2. @Cher0tich And he doesn't ruffle feathers. Wanyama sio yake, parks sio yake, so hajistress saana.\n",
      "3. American Special Forces to set up a permanent presence in Somalia.\n",
      "4. @iFortknox If there is a team that can bottle it, it is Spurs.\n",
      "5. Balala won Kenyan politics kitambo.\n",
      "6. Tiptoes to ArsenalFansTv to learn a new cuss word. 🤣\n",
      "7. One of Python's oddities. \n",
      "A tuple is immutable but the operation as shown below will create a new tuple with all the four elements. 🤣 https://t.co/XIscOAOXzQ\n",
      "8. @iFortknox He was too real. Maybe that's why he checked out early.\n",
      "9. RT @chipro: My editors just shared with me the feedback from early reviewers and I'm in tears 😭\n",
      "\n",
      "With the help of so many people, I worked…\n",
      "10. Sauti Sol: Copyright kasokoso.\n",
      "Some Kenyan: \"Na wakiapisha, (Tunaapisha)\" is originally a Raila Odinga concept, so GOAL-GOAL.\n",
      "\n",
      "Hehe.\n"
     ]
    }
   ],
   "source": [
    "username = input(\"Enter the user's screenname: \")\n",
    "count = int(input(\"Enter the number of tweets to be retrieved: \"))\n",
    "tweets = api.user_timeline(screen_name=username, count=count,tweet_mode=\"extended\")\n",
    "i = 1\n",
    "for tweet in tweets[0:10]:\n",
    "    print(f\"{i}. {tweet.full_text}\")\n",
    "    i += 1"
   ]
  },
  {
   "cell_type": "code",
   "execution_count": 48,
   "metadata": {},
   "outputs": [
    {
     "data": {
      "text/html": [
       "<div>\n",
       "<style scoped>\n",
       "    .dataframe tbody tr th:only-of-type {\n",
       "        vertical-align: middle;\n",
       "    }\n",
       "\n",
       "    .dataframe tbody tr th {\n",
       "        vertical-align: top;\n",
       "    }\n",
       "\n",
       "    .dataframe thead th {\n",
       "        text-align: right;\n",
       "    }\n",
       "</style>\n",
       "<table border=\"1\" class=\"dataframe\">\n",
       "  <thead>\n",
       "    <tr style=\"text-align: right;\">\n",
       "      <th></th>\n",
       "      <th>Tweets</th>\n",
       "    </tr>\n",
       "  </thead>\n",
       "  <tbody>\n",
       "    <tr>\n",
       "      <th>0</th>\n",
       "      <td>@Cher0tich Good example. Don't kill yourself o...</td>\n",
       "    </tr>\n",
       "    <tr>\n",
       "      <th>1</th>\n",
       "      <td>@Cher0tich And he doesn't ruffle feathers. Wan...</td>\n",
       "    </tr>\n",
       "    <tr>\n",
       "      <th>2</th>\n",
       "      <td>American Special Forces to set up a permanent ...</td>\n",
       "    </tr>\n",
       "    <tr>\n",
       "      <th>3</th>\n",
       "      <td>@iFortknox If there is a team that can bottle ...</td>\n",
       "    </tr>\n",
       "    <tr>\n",
       "      <th>4</th>\n",
       "      <td>Balala won Kenyan politics kitambo.</td>\n",
       "    </tr>\n",
       "    <tr>\n",
       "      <th>5</th>\n",
       "      <td>Tiptoes to ArsenalFansTv to learn a new cuss w...</td>\n",
       "    </tr>\n",
       "    <tr>\n",
       "      <th>6</th>\n",
       "      <td>One of Python's oddities. \\nA tuple is immutab...</td>\n",
       "    </tr>\n",
       "    <tr>\n",
       "      <th>7</th>\n",
       "      <td>@iFortknox He was too real. Maybe that's why h...</td>\n",
       "    </tr>\n",
       "    <tr>\n",
       "      <th>8</th>\n",
       "      <td>RT @chipro: My editors just shared with me the...</td>\n",
       "    </tr>\n",
       "    <tr>\n",
       "      <th>9</th>\n",
       "      <td>Sauti Sol: Copyright kasokoso.\\nSome Kenyan: \"...</td>\n",
       "    </tr>\n",
       "  </tbody>\n",
       "</table>\n",
       "</div>"
      ],
      "text/plain": [
       "                                              Tweets\n",
       "0  @Cher0tich Good example. Don't kill yourself o...\n",
       "1  @Cher0tich And he doesn't ruffle feathers. Wan...\n",
       "2  American Special Forces to set up a permanent ...\n",
       "3  @iFortknox If there is a team that can bottle ...\n",
       "4                Balala won Kenyan politics kitambo.\n",
       "5  Tiptoes to ArsenalFansTv to learn a new cuss w...\n",
       "6  One of Python's oddities. \\nA tuple is immutab...\n",
       "7  @iFortknox He was too real. Maybe that's why h...\n",
       "8  RT @chipro: My editors just shared with me the...\n",
       "9  Sauti Sol: Copyright kasokoso.\\nSome Kenyan: \"..."
      ]
     },
     "execution_count": 48,
     "metadata": {},
     "output_type": "execute_result"
    }
   ],
   "source": [
    "# Create Dataframe of tweets\n",
    "df = pd.DataFrame(data=[tweet.full_text for tweet in tweets], columns=['Tweets'])\n",
    "df.head(10)"
   ]
  },
  {
   "cell_type": "code",
   "execution_count": 49,
   "metadata": {},
   "outputs": [],
   "source": [
    "# Clean Data - Remove special characters, links, and other elements\n",
    "# Create a function to clean the data\n",
    "def clean_tweet(text):\n",
    "    text = re.sub(r'@[A-Za-z0-9]+', '', text) # Remove @mentions\n",
    "    text = re.sub(r'#', '', text) # Remove the # in #hashtag\n",
    "    text = re.sub(r'RT[\\s]+', '', text) # Remove RT (retweet)\n",
    "    text = re.sub(r'https?:\\/\\/\\S+', '', text) # Remove hyperlinks\n",
    "\n",
    "    return text"
   ]
  },
  {
   "cell_type": "code",
   "execution_count": 50,
   "metadata": {},
   "outputs": [
    {
     "data": {
      "text/html": [
       "<div>\n",
       "<style scoped>\n",
       "    .dataframe tbody tr th:only-of-type {\n",
       "        vertical-align: middle;\n",
       "    }\n",
       "\n",
       "    .dataframe tbody tr th {\n",
       "        vertical-align: top;\n",
       "    }\n",
       "\n",
       "    .dataframe thead th {\n",
       "        text-align: right;\n",
       "    }\n",
       "</style>\n",
       "<table border=\"1\" class=\"dataframe\">\n",
       "  <thead>\n",
       "    <tr style=\"text-align: right;\">\n",
       "      <th></th>\n",
       "      <th>Tweets</th>\n",
       "    </tr>\n",
       "  </thead>\n",
       "  <tbody>\n",
       "    <tr>\n",
       "      <th>0</th>\n",
       "      <td>Good example. Don't kill yourself over small ...</td>\n",
       "    </tr>\n",
       "    <tr>\n",
       "      <th>1</th>\n",
       "      <td>And he doesn't ruffle feathers. Wanyama sio y...</td>\n",
       "    </tr>\n",
       "    <tr>\n",
       "      <th>2</th>\n",
       "      <td>American Special Forces to set up a permanent ...</td>\n",
       "    </tr>\n",
       "    <tr>\n",
       "      <th>3</th>\n",
       "      <td>If there is a team that can bottle it, it is ...</td>\n",
       "    </tr>\n",
       "    <tr>\n",
       "      <th>4</th>\n",
       "      <td>Balala won Kenyan politics kitambo.</td>\n",
       "    </tr>\n",
       "    <tr>\n",
       "      <th>5</th>\n",
       "      <td>Tiptoes to ArsenalFansTv to learn a new cuss w...</td>\n",
       "    </tr>\n",
       "    <tr>\n",
       "      <th>6</th>\n",
       "      <td>One of Python's oddities. \\nA tuple is immutab...</td>\n",
       "    </tr>\n",
       "    <tr>\n",
       "      <th>7</th>\n",
       "      <td>He was too real. Maybe that's why he checked ...</td>\n",
       "    </tr>\n",
       "    <tr>\n",
       "      <th>8</th>\n",
       "      <td>: My editors just shared with me the feedback ...</td>\n",
       "    </tr>\n",
       "    <tr>\n",
       "      <th>9</th>\n",
       "      <td>Sauti Sol: Copyright kasokoso.\\nSome Kenyan: \"...</td>\n",
       "    </tr>\n",
       "  </tbody>\n",
       "</table>\n",
       "</div>"
      ],
      "text/plain": [
       "                                              Tweets\n",
       "0   Good example. Don't kill yourself over small ...\n",
       "1   And he doesn't ruffle feathers. Wanyama sio y...\n",
       "2  American Special Forces to set up a permanent ...\n",
       "3   If there is a team that can bottle it, it is ...\n",
       "4                Balala won Kenyan politics kitambo.\n",
       "5  Tiptoes to ArsenalFansTv to learn a new cuss w...\n",
       "6  One of Python's oddities. \\nA tuple is immutab...\n",
       "7   He was too real. Maybe that's why he checked ...\n",
       "8  : My editors just shared with me the feedback ...\n",
       "9  Sauti Sol: Copyright kasokoso.\\nSome Kenyan: \"..."
      ]
     },
     "execution_count": 50,
     "metadata": {},
     "output_type": "execute_result"
    }
   ],
   "source": [
    "# Apply the function to the dataframe\n",
    "df['Tweets'] = df['Tweets'].apply(clean_tweet)\n",
    "# Show cleaned tweets\n",
    "df.head(10)"
   ]
  },
  {
   "cell_type": "code",
   "execution_count": null,
   "metadata": {},
   "outputs": [],
   "source": []
  }
 ],
 "metadata": {
  "interpreter": {
   "hash": "0f9f323f011a694c5b8d7548fcbb4ff2fb8579a58e6afef7ae18f2b675d9e533"
  },
  "kernelspec": {
   "display_name": "Python 3.8.10 ('venv': venv)",
   "language": "python",
   "name": "python3"
  },
  "language_info": {
   "codemirror_mode": {
    "name": "ipython",
    "version": 3
   },
   "file_extension": ".py",
   "mimetype": "text/x-python",
   "name": "python",
   "nbconvert_exporter": "python",
   "pygments_lexer": "ipython3",
   "version": "3.8.10"
  },
  "orig_nbformat": 4
 },
 "nbformat": 4,
 "nbformat_minor": 2
}
