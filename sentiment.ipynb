{
 "cells": [
  {
   "cell_type": "markdown",
   "metadata": {},
   "source": [
    "## Description : Sentiment Analysis of Tweets fetched from Twitter using Python"
   ]
  },
  {
   "cell_type": "markdown",
   "metadata": {},
   "source": []
  },
  {
   "cell_type": "code",
   "execution_count": 1,
   "metadata": {},
   "outputs": [],
   "source": [
    "# Import required libraries\n",
    "import os\n",
    "import time\n",
    "import tweepy\n",
    "from textblob import TextBlob\n",
    "from wordcloud import WordCloud\n",
    "import pandas as pd\n",
    "import numpy as np\n",
    "import re\n",
    "import matplotlib.pyplot as plt\n",
    "plt.style.use('fivethirtyeight')\n"
   ]
  },
  {
   "cell_type": "code",
   "execution_count": 2,
   "metadata": {},
   "outputs": [],
   "source": [
    "# Load the API keys from the login credential file\n",
    "log_cred = pd.read_csv(\"login_credentials.csv\")\n",
    "consumer_key = log_cred.iloc[0, 1]\n",
    "consumer_secret = log_cred.iloc[1, 1]\n",
    "access_token = log_cred.iloc[2, 1]\n",
    "access_token_secret = log_cred.iloc[3, 1]\n"
   ]
  },
  {
   "cell_type": "code",
   "execution_count": 3,
   "metadata": {},
   "outputs": [],
   "source": [
    "# Create the authentication object and the API object\n",
    "auth = tweepy.OAuthHandler(consumer_key, consumer_secret)\n",
    "auth.set_access_token(access_token, access_token_secret)\n",
    "api = tweepy.API(auth, wait_on_rate_limit=True)"
   ]
  },
  {
   "cell_type": "code",
   "execution_count": 4,
   "metadata": {},
   "outputs": [
    {
     "name": "stdout",
     "output_type": "stream",
     "text": [
      "1. RT @airport_girl: The perfect vintage #aviation photo does not exis— https://t.co/YBO5wfxCXC\n",
      "2. @kiruti I remember seeing Moi arriving from a state visit of Czechoslovakia. I'm ancient.\n",
      "3. Ay, not from the queen of Linda Katiba, too. 🤣 https://t.co/wQAyuJDUPx\n",
      "4. This war criminal is being knighted. \n",
      " https://t.co/MhM2RKOkWq\n",
      "5. What's that Twitter Video downloader by the Kenyan geek? I keep forgetting it and it's the only that works perfectly all the time.  Thanks!\n",
      "6. @streamlit making life easy! https://t.co/zch6v000Jq\n",
      "7. So I timed my Pixel charging using a 65W GaN brick and made cool observations. Used @streamlit to visualise the results: Check it out: https://t.co/jCGON7Ag5f\n",
      "The code is on: https://t.co/lXMI7g2NaV https://t.co/15NzzQ1uio\n",
      "8. @4lifestan I think that is the most disappointing factor. He has done well, relatively, as a senator and his politics are a bit \"urban\" and forward-looking.\n",
      "9. @Cher0tich People create silly classes to feel exclusive. Upuus tu.\n",
      "10. @Cher0tich Uko na certificate? 🤣🤣🤣🤣 https://t.co/i5DxVg7M8z\n"
     ]
    }
   ],
   "source": [
    "username = input(\"Enter the user's screenname: \")\n",
    "count = int(input(\"Enter the number of tweets to be retrieved: \"))\n",
    "tweets = api.user_timeline(screen_name=username, count=count,tweet_mode=\"extended\")\n",
    "i = 1\n",
    "for tweet in tweets[0:10]:\n",
    "    print(f\"{i}. {tweet.full_text}\")\n",
    "    i += 1"
   ]
  },
  {
   "cell_type": "code",
   "execution_count": 5,
   "metadata": {},
   "outputs": [
    {
     "data": {
      "text/html": [
       "<div>\n",
       "<style scoped>\n",
       "    .dataframe tbody tr th:only-of-type {\n",
       "        vertical-align: middle;\n",
       "    }\n",
       "\n",
       "    .dataframe tbody tr th {\n",
       "        vertical-align: top;\n",
       "    }\n",
       "\n",
       "    .dataframe thead th {\n",
       "        text-align: right;\n",
       "    }\n",
       "</style>\n",
       "<table border=\"1\" class=\"dataframe\">\n",
       "  <thead>\n",
       "    <tr style=\"text-align: right;\">\n",
       "      <th></th>\n",
       "      <th>Tweets</th>\n",
       "    </tr>\n",
       "  </thead>\n",
       "  <tbody>\n",
       "    <tr>\n",
       "      <th>0</th>\n",
       "      <td>RT @airport_girl: The perfect vintage #aviatio...</td>\n",
       "    </tr>\n",
       "    <tr>\n",
       "      <th>1</th>\n",
       "      <td>@kiruti I remember seeing Moi arriving from a ...</td>\n",
       "    </tr>\n",
       "    <tr>\n",
       "      <th>2</th>\n",
       "      <td>Ay, not from the queen of Linda Katiba, too. 🤣...</td>\n",
       "    </tr>\n",
       "    <tr>\n",
       "      <th>3</th>\n",
       "      <td>This war criminal is being knighted. \\n https:...</td>\n",
       "    </tr>\n",
       "    <tr>\n",
       "      <th>4</th>\n",
       "      <td>What's that Twitter Video downloader by the Ke...</td>\n",
       "    </tr>\n",
       "    <tr>\n",
       "      <th>5</th>\n",
       "      <td>@streamlit making life easy! https://t.co/zch6...</td>\n",
       "    </tr>\n",
       "    <tr>\n",
       "      <th>6</th>\n",
       "      <td>So I timed my Pixel charging using a 65W GaN b...</td>\n",
       "    </tr>\n",
       "    <tr>\n",
       "      <th>7</th>\n",
       "      <td>@4lifestan I think that is the most disappoint...</td>\n",
       "    </tr>\n",
       "    <tr>\n",
       "      <th>8</th>\n",
       "      <td>@Cher0tich People create silly classes to feel...</td>\n",
       "    </tr>\n",
       "    <tr>\n",
       "      <th>9</th>\n",
       "      <td>@Cher0tich Uko na certificate? 🤣🤣🤣🤣 https://t....</td>\n",
       "    </tr>\n",
       "  </tbody>\n",
       "</table>\n",
       "</div>"
      ],
      "text/plain": [
       "                                              Tweets\n",
       "0  RT @airport_girl: The perfect vintage #aviatio...\n",
       "1  @kiruti I remember seeing Moi arriving from a ...\n",
       "2  Ay, not from the queen of Linda Katiba, too. 🤣...\n",
       "3  This war criminal is being knighted. \\n https:...\n",
       "4  What's that Twitter Video downloader by the Ke...\n",
       "5  @streamlit making life easy! https://t.co/zch6...\n",
       "6  So I timed my Pixel charging using a 65W GaN b...\n",
       "7  @4lifestan I think that is the most disappoint...\n",
       "8  @Cher0tich People create silly classes to feel...\n",
       "9  @Cher0tich Uko na certificate? 🤣🤣🤣🤣 https://t...."
      ]
     },
     "execution_count": 5,
     "metadata": {},
     "output_type": "execute_result"
    }
   ],
   "source": [
    "# Create Dataframe of tweets\n",
    "df = pd.DataFrame(data=[tweet.full_text for tweet in tweets], columns=['Tweets'])\n",
    "df.head(10)"
   ]
  },
  {
   "cell_type": "code",
   "execution_count": 6,
   "metadata": {},
   "outputs": [],
   "source": [
    "# Clean Data - Remove special characters, links, and other elements\n",
    "# Create a function to clean the data\n",
    "def clean_tweet(text):\n",
    "    text = re.sub(r'@[A-Za-z0-9]+', '', text) # Remove @mentions\n",
    "    text = re.sub(r'#', '', text) # Remove the # in #hashtag\n",
    "    text = re.sub(r'RT[\\s]+', '', text) # Remove RT (retweet)\n",
    "    text = re.sub(r'https?:\\/\\/\\S+', '', text) # Remove hyperlinks\n",
    "\n",
    "    return text"
   ]
  },
  {
   "cell_type": "code",
   "execution_count": 7,
   "metadata": {},
   "outputs": [
    {
     "data": {
      "text/html": [
       "<div>\n",
       "<style scoped>\n",
       "    .dataframe tbody tr th:only-of-type {\n",
       "        vertical-align: middle;\n",
       "    }\n",
       "\n",
       "    .dataframe tbody tr th {\n",
       "        vertical-align: top;\n",
       "    }\n",
       "\n",
       "    .dataframe thead th {\n",
       "        text-align: right;\n",
       "    }\n",
       "</style>\n",
       "<table border=\"1\" class=\"dataframe\">\n",
       "  <thead>\n",
       "    <tr style=\"text-align: right;\">\n",
       "      <th></th>\n",
       "      <th>Tweets</th>\n",
       "    </tr>\n",
       "  </thead>\n",
       "  <tbody>\n",
       "    <tr>\n",
       "      <th>0</th>\n",
       "      <td>_girl: The perfect vintage aviation photo does...</td>\n",
       "    </tr>\n",
       "    <tr>\n",
       "      <th>1</th>\n",
       "      <td>I remember seeing Moi arriving from a state v...</td>\n",
       "    </tr>\n",
       "    <tr>\n",
       "      <th>2</th>\n",
       "      <td>Ay, not from the queen of Linda Katiba, too. 🤣</td>\n",
       "    </tr>\n",
       "    <tr>\n",
       "      <th>3</th>\n",
       "      <td>This war criminal is being knighted. \\n</td>\n",
       "    </tr>\n",
       "    <tr>\n",
       "      <th>4</th>\n",
       "      <td>What's that Twitter Video downloader by the Ke...</td>\n",
       "    </tr>\n",
       "    <tr>\n",
       "      <th>5</th>\n",
       "      <td>making life easy!</td>\n",
       "    </tr>\n",
       "    <tr>\n",
       "      <th>6</th>\n",
       "      <td>So I timed my Pixel charging using a 65W GaN b...</td>\n",
       "    </tr>\n",
       "    <tr>\n",
       "      <th>7</th>\n",
       "      <td>I think that is the most disappointing factor...</td>\n",
       "    </tr>\n",
       "    <tr>\n",
       "      <th>8</th>\n",
       "      <td>People create silly classes to feel exclusive...</td>\n",
       "    </tr>\n",
       "    <tr>\n",
       "      <th>9</th>\n",
       "      <td>Uko na certificate? 🤣🤣🤣🤣</td>\n",
       "    </tr>\n",
       "  </tbody>\n",
       "</table>\n",
       "</div>"
      ],
      "text/plain": [
       "                                              Tweets\n",
       "0  _girl: The perfect vintage aviation photo does...\n",
       "1   I remember seeing Moi arriving from a state v...\n",
       "2    Ay, not from the queen of Linda Katiba, too. 🤣 \n",
       "3           This war criminal is being knighted. \\n \n",
       "4  What's that Twitter Video downloader by the Ke...\n",
       "5                                 making life easy! \n",
       "6  So I timed my Pixel charging using a 65W GaN b...\n",
       "7   I think that is the most disappointing factor...\n",
       "8   People create silly classes to feel exclusive...\n",
       "9                          Uko na certificate? 🤣🤣🤣🤣 "
      ]
     },
     "execution_count": 7,
     "metadata": {},
     "output_type": "execute_result"
    }
   ],
   "source": [
    "# Apply the function to the dataframe\n",
    "df['Tweets'] = df['Tweets'].apply(clean_tweet)\n",
    "# Show cleaned tweets\n",
    "df.head(10)"
   ]
  },
  {
   "cell_type": "code",
   "execution_count": null,
   "metadata": {},
   "outputs": [],
   "source": []
  }
 ],
 "metadata": {
  "interpreter": {
   "hash": "0f9f323f011a694c5b8d7548fcbb4ff2fb8579a58e6afef7ae18f2b675d9e533"
  },
  "kernelspec": {
   "display_name": "Python 3.8.10 ('venv': venv)",
   "language": "python",
   "name": "python3"
  },
  "language_info": {
   "codemirror_mode": {
    "name": "ipython",
    "version": 3
   },
   "file_extension": ".py",
   "mimetype": "text/x-python",
   "name": "python",
   "nbconvert_exporter": "python",
   "pygments_lexer": "ipython3",
   "version": "3.8.10"
  },
  "orig_nbformat": 4
 },
 "nbformat": 4,
 "nbformat_minor": 2
}
